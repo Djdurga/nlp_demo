{
 "cells": [
  {
   "cell_type": "code",
   "execution_count": 1,
   "id": "f2561463-a781-48e5-9a83-b93ee505d27b",
   "metadata": {},
   "outputs": [
    {
     "name": "stdout",
     "output_type": "stream",
     "text": [
      "Bag of Words Vocabulary:\n",
      "['and' 'are' 'data' 'fun' 'is' 'love' 'powerful' 'science']\n",
      "\n",
      "BoW Matrix:\n",
      "[[0 0 1 1 1 0 0 1]\n",
      " [1 0 1 0 0 1 0 1]\n",
      " [1 1 1 0 0 0 1 1]]\n",
      "\n",
      "TF-IDF Vocabulary:\n",
      "['and' 'are' 'data' 'fun' 'is' 'love' 'powerful' 'science']\n",
      "\n",
      "TF-IDF Matrix:\n",
      "[[0.         0.         0.35959372 0.6088451  0.6088451  0.\n",
      "  0.         0.35959372]\n",
      " [0.50410689 0.         0.39148397 0.         0.         0.66283998\n",
      "  0.         0.39148397]\n",
      " [0.42018292 0.55249005 0.32630952 0.         0.         0.\n",
      "  0.55249005 0.32630952]]\n",
      "\n",
      "Bigrams Vocabulary:\n",
      "['and data' 'and science' 'are powerful' 'data and' 'data are'\n",
      " 'data science' 'is fun' 'love data' 'science and' 'science is']\n",
      "\n",
      "Bigrams Matrix:\n",
      "[[0 0 0 0 0 1 1 0 0 1]\n",
      " [0 1 0 1 0 0 0 1 0 0]\n",
      " [1 0 1 0 1 0 0 0 1 0]]\n"
     ]
    }
   ],
   "source": [
    "from sklearn.feature_extraction.text import CountVectorizer, TfidfVectorizer\n",
    "\n",
    "# Sample sentences\n",
    "corpus = [\n",
    "    \"Data science is fun\",\n",
    "    \"I love data and science\",\n",
    "    \"Science and data are powerful\"\n",
    "]\n",
    "\n",
    "# ---- 1. Bag of Words (BoW) ----\n",
    "bow_vectorizer = CountVectorizer()\n",
    "bow_matrix = bow_vectorizer.fit_transform(corpus)\n",
    "\n",
    "print(\"Bag of Words Vocabulary:\")\n",
    "print(bow_vectorizer.get_feature_names_out())\n",
    "print(\"\\nBoW Matrix:\")\n",
    "print(bow_matrix.toarray())\n",
    "\n",
    "# ---- 2. TF-IDF ----\n",
    "tfidf_vectorizer = TfidfVectorizer()\n",
    "tfidf_matrix = tfidf_vectorizer.fit_transform(corpus)\n",
    "\n",
    "print(\"\\nTF-IDF Vocabulary:\")\n",
    "print(tfidf_vectorizer.get_feature_names_out())\n",
    "print(\"\\nTF-IDF Matrix:\")\n",
    "print(tfidf_matrix.toarray())\n",
    "\n",
    "# ---- 3. N-grams (bigrams example) ----\n",
    "ngram_vectorizer = CountVectorizer(ngram_range=(2, 2))  # bigrams\n",
    "ngram_matrix = ngram_vectorizer.fit_transform(corpus)\n",
    "\n",
    "print(\"\\nBigrams Vocabulary:\")\n",
    "print(ngram_vectorizer.get_feature_names_out())\n",
    "print(\"\\nBigrams Matrix:\")\n",
    "print(ngram_matrix.toarray())\n"
   ]
  }
 ],
 "metadata": {
  "kernelspec": {
   "display_name": "Python 3 (ipykernel)",
   "language": "python",
   "name": "python3"
  },
  "language_info": {
   "codemirror_mode": {
    "name": "ipython",
    "version": 3
   },
   "file_extension": ".py",
   "mimetype": "text/x-python",
   "name": "python",
   "nbconvert_exporter": "python",
   "pygments_lexer": "ipython3",
   "version": "3.11.7"
  }
 },
 "nbformat": 4,
 "nbformat_minor": 5
}
