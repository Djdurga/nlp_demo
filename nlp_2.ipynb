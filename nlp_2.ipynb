{
 "cells": [
  {
   "cell_type": "code",
   "execution_count": 2,
   "id": "a96d35b2-4457-45d2-9a2b-68a8eb67e48f",
   "metadata": {},
   "outputs": [
    {
     "name": "stdout",
     "output_type": "stream",
     "text": [
      "Requirement already satisfied: nltk in /Users/durgarani/Desktop/anaconda3/lib/python3.12/site-packages (3.9.1)\n",
      "Requirement already satisfied: click in /Users/durgarani/Desktop/anaconda3/lib/python3.12/site-packages (from nltk) (8.1.7)\n",
      "Requirement already satisfied: joblib in /Users/durgarani/Desktop/anaconda3/lib/python3.12/site-packages (from nltk) (1.4.2)\n",
      "Requirement already satisfied: regex>=2021.8.3 in /Users/durgarani/Desktop/anaconda3/lib/python3.12/site-packages (from nltk) (2024.9.11)\n",
      "Requirement already satisfied: tqdm in /Users/durgarani/Desktop/anaconda3/lib/python3.12/site-packages (from nltk) (4.66.5)\n",
      "\n",
      "\u001b[1m[\u001b[0m\u001b[34;49mnotice\u001b[0m\u001b[1;39;49m]\u001b[0m\u001b[39;49m A new release of pip is available: \u001b[0m\u001b[31;49m25.1.1\u001b[0m\u001b[39;49m -> \u001b[0m\u001b[32;49m25.2\u001b[0m\n",
      "\u001b[1m[\u001b[0m\u001b[34;49mnotice\u001b[0m\u001b[1;39;49m]\u001b[0m\u001b[39;49m To update, run: \u001b[0m\u001b[32;49mpip install --upgrade pip\u001b[0m\n"
     ]
    }
   ],
   "source": [
    "!pip install nltk"
   ]
  },
  {
   "cell_type": "code",
   "execution_count": 4,
   "id": "66bdb43b-8527-4bba-b600-86655bae8789",
   "metadata": {},
   "outputs": [],
   "source": [
    "paragraph = '''Narendra Damodardas Modi[a] (born 17 September 1950) is an Indian politician who has served as the prime minister of India since 2014. Modi was the chief minister of Gujarat from 2001 to 2014 and is the member of parliament (MP) for Varanasi. He is a member of the Bharatiya Janata Party (BJP) and of the Rashtriya Swayamsevak Sangh (RSS), a right-wing Hindutva paramilitary volunteer organisation. He is the longest-serving prime minister outside the Indian National Congress.\n",
    "\n",
    "Modi was born and raised in Vadnagar, Bombay State (present-day Gujarat), where he completed his secondary education. He was introduced to the RSS at the age of eight, becoming a full-time worker for the organisation in Gujarat in 1971. The RSS assigned him to the BJP in 1985, and he rose through the party hierarchy, becoming general secretary in 1998.[b] In 2001, Modi was appointed chief minister of Gujarat and elected to the legislative assembly soon after. His administration is considered complicit in the 2002 Gujarat riots[c] and has been criticised for its management of the crisis. According to official records, a little over 1,000 people were killed, three-quarters of whom were Muslim; independent sources estimated 2,000 deaths, mostly Muslim.[4] A Special Investigation Team appointed by the Supreme Court of India in 2012 found no evidence to initiate prosecution proceedings against him.[d] While his policies as chief minister were credited for encouraging economic growth, his administration was criticised for failing to significantly improve health, poverty and education indices in the state.'''"
   ]
  },
  {
   "cell_type": "code",
   "execution_count": 6,
   "id": "28a19909-63c8-4684-83a3-63c34af65acb",
   "metadata": {},
   "outputs": [
    {
     "data": {
      "text/plain": [
       "'Narendra Damodardas Modi[a] (born 17 September 1950) is an Indian politician who has served as the prime minister of India since 2014. Modi was the chief minister of Gujarat from 2001 to 2014 and is the member of parliament (MP) for Varanasi. He is a member of the Bharatiya Janata Party (BJP) and of the Rashtriya Swayamsevak Sangh (RSS), a right-wing Hindutva paramilitary volunteer organisation. He is the longest-serving prime minister outside the Indian National Congress.\\n\\nModi was born and raised in Vadnagar, Bombay State (present-day Gujarat), where he completed his secondary education. He was introduced to the RSS at the age of eight, becoming a full-time worker for the organisation in Gujarat in 1971. The RSS assigned him to the BJP in 1985, and he rose through the party hierarchy, becoming general secretary in 1998.[b] In 2001, Modi was appointed chief minister of Gujarat and elected to the legislative assembly soon after. His administration is considered complicit in the 2002 Gujarat riots[c] and has been criticised for its management of the crisis. According to official records, a little over 1,000 people were killed, three-quarters of whom were Muslim; independent sources estimated 2,000 deaths, mostly Muslim.[4] A Special Investigation Team appointed by the Supreme Court of India in 2012 found no evidence to initiate prosecution proceedings against him.[d] While his policies as chief minister were credited for encouraging economic growth, his administration was criticised for failing to significantly improve health, poverty and education indices in the state.'"
      ]
     },
     "execution_count": 6,
     "metadata": {},
     "output_type": "execute_result"
    }
   ],
   "source": [
    "paragraph"
   ]
  },
  {
   "cell_type": "code",
   "execution_count": 10,
   "id": "b1b3d30b-55d5-4439-a3f1-1fad1ceac545",
   "metadata": {},
   "outputs": [],
   "source": [
    "import nltk\n",
    "from nltk.stem import PorterStemmer\n",
    "from nltk.corpus import stopwords"
   ]
  },
  {
   "cell_type": "code",
   "execution_count": 18,
   "id": "88024491-c3a7-4809-bcd7-a152f81aad83",
   "metadata": {},
   "outputs": [
    {
     "name": "stderr",
     "output_type": "stream",
     "text": [
      "[nltk_data] Downloading package punkt to /Users/durgarani/nltk_data...\n",
      "[nltk_data]   Package punkt is already up-to-date!\n"
     ]
    }
   ],
   "source": [
    "## Tokenization -- converts paragraph into words\n",
    "\n",
    "nltk.download('punkt')\n",
    "sent = nltk.sent_tokenize(paragraph)"
   ]
  },
  {
   "cell_type": "code",
   "execution_count": 20,
   "id": "5e610007-a7d0-4d81-9632-5374711961ef",
   "metadata": {},
   "outputs": [
    {
     "data": {
      "text/plain": [
       "['Narendra Damodardas Modi[a] (born 17 September 1950) is an Indian politician who has served as the prime minister of India since 2014.',\n",
       " 'Modi was the chief minister of Gujarat from 2001 to 2014 and is the member of parliament (MP) for Varanasi.',\n",
       " 'He is a member of the Bharatiya Janata Party (BJP) and of the Rashtriya Swayamsevak Sangh (RSS), a right-wing Hindutva paramilitary volunteer organisation.',\n",
       " 'He is the longest-serving prime minister outside the Indian National Congress.',\n",
       " 'Modi was born and raised in Vadnagar, Bombay State (present-day Gujarat), where he completed his secondary education.',\n",
       " 'He was introduced to the RSS at the age of eight, becoming a full-time worker for the organisation in Gujarat in 1971.',\n",
       " 'The RSS assigned him to the BJP in 1985, and he rose through the party hierarchy, becoming general secretary in 1998.',\n",
       " '[b] In 2001, Modi was appointed chief minister of Gujarat and elected to the legislative assembly soon after.',\n",
       " 'His administration is considered complicit in the 2002 Gujarat riots[c] and has been criticised for its management of the crisis.',\n",
       " 'According to official records, a little over 1,000 people were killed, three-quarters of whom were Muslim; independent sources estimated 2,000 deaths, mostly Muslim.',\n",
       " '[4] A Special Investigation Team appointed by the Supreme Court of India in 2012 found no evidence to initiate prosecution proceedings against him.',\n",
       " '[d] While his policies as chief minister were credited for encouraging economic growth, his administration was criticised for failing to significantly improve health, poverty and education indices in the state.']"
      ]
     },
     "execution_count": 20,
     "metadata": {},
     "output_type": "execute_result"
    }
   ],
   "source": [
    "sent"
   ]
  },
  {
   "cell_type": "code",
   "execution_count": 22,
   "id": "cc1ef14d-368f-4b22-95b5-aa6ddbbd2aeb",
   "metadata": {},
   "outputs": [],
   "source": [
    "## Stemming\n",
    "stemmer = PorterStemmer()"
   ]
  },
  {
   "cell_type": "code",
   "execution_count": 24,
   "id": "516bd764-2422-4a5d-82bf-85c2c39cf241",
   "metadata": {},
   "outputs": [
    {
     "data": {
      "text/plain": [
       "'go'"
      ]
     },
     "execution_count": 24,
     "metadata": {},
     "output_type": "execute_result"
    }
   ],
   "source": [
    "stemmer.stem('going')"
   ]
  },
  {
   "cell_type": "code",
   "execution_count": 26,
   "id": "4807622d-ceb8-4135-8381-83e367def790",
   "metadata": {},
   "outputs": [
    {
     "data": {
      "text/plain": [
       "'histori'"
      ]
     },
     "execution_count": 26,
     "metadata": {},
     "output_type": "execute_result"
    }
   ],
   "source": [
    "stemmer.stem('history')"
   ]
  },
  {
   "cell_type": "code",
   "execution_count": 36,
   "id": "b4951944-607f-416c-afc9-093835a6f4d2",
   "metadata": {},
   "outputs": [
    {
     "name": "stderr",
     "output_type": "stream",
     "text": [
      "[nltk_data] Downloading package wordnet to\n",
      "[nltk_data]     /Users/durgarani/nltk_data...\n"
     ]
    },
    {
     "data": {
      "text/plain": [
       "True"
      ]
     },
     "execution_count": 36,
     "metadata": {},
     "output_type": "execute_result"
    }
   ],
   "source": [
    "## Lemmatization\n",
    "from nltk.stem import WordNetLemmatizer\n",
    "nltk.download('wordnet')"
   ]
  },
  {
   "cell_type": "code",
   "execution_count": 38,
   "id": "0689ee60-0732-4296-98bd-d9e7dfdb120b",
   "metadata": {},
   "outputs": [],
   "source": [
    "lemmatizer = WordNetLemmatizer()"
   ]
  },
  {
   "cell_type": "code",
   "execution_count": 40,
   "id": "09f6fdd0-df96-4ba4-8436-bf55f536b3db",
   "metadata": {},
   "outputs": [
    {
     "data": {
      "text/plain": [
       "'history'"
      ]
     },
     "execution_count": 40,
     "metadata": {},
     "output_type": "execute_result"
    }
   ],
   "source": [
    "lemmatizer.lemmatize('history')"
   ]
  },
  {
   "cell_type": "code",
   "execution_count": 42,
   "id": "886cae74-b3cd-483c-a395-5dbd68c9dcdd",
   "metadata": {},
   "outputs": [
    {
     "data": {
      "text/plain": [
       "'drinking'"
      ]
     },
     "execution_count": 42,
     "metadata": {},
     "output_type": "execute_result"
    }
   ],
   "source": [
    "lemmatizer.lemmatize('drinking')"
   ]
  },
  {
   "cell_type": "code",
   "execution_count": 44,
   "id": "41f0d6d2-8cd7-4ae6-92a6-af63289bb045",
   "metadata": {},
   "outputs": [
    {
     "data": {
      "text/plain": [
       "12"
      ]
     },
     "execution_count": 44,
     "metadata": {},
     "output_type": "execute_result"
    }
   ],
   "source": [
    "len(sent)"
   ]
  },
  {
   "cell_type": "code",
   "execution_count": 46,
   "id": "f59e80d4-c45a-49e0-992b-e8c9c1f628f4",
   "metadata": {},
   "outputs": [],
   "source": [
    "import re"
   ]
  },
  {
   "cell_type": "code",
   "execution_count": 48,
   "id": "f7f0308b-08cf-4547-9375-063ab6c033eb",
   "metadata": {},
   "outputs": [],
   "source": [
    "corpus = []\n",
    "for i in range(len(sent)):\n",
    "    review = re.sub('[^a-zA-Z]',' ',sent[i])\n",
    "    review = review.lower()\n",
    "    corpus.append(review)"
   ]
  },
  {
   "cell_type": "code",
   "execution_count": 50,
   "id": "138eb1db-e74b-4ba1-a1e2-85157e5ad652",
   "metadata": {},
   "outputs": [
    {
     "data": {
      "text/plain": [
       "['narendra damodardas modi a   born    september       is an indian politician who has served as the prime minister of india since      ',\n",
       " 'modi was the chief minister of gujarat from      to      and is the member of parliament  mp  for varanasi ',\n",
       " 'he is a member of the bharatiya janata party  bjp  and of the rashtriya swayamsevak sangh  rss   a right wing hindutva paramilitary volunteer organisation ',\n",
       " 'he is the longest serving prime minister outside the indian national congress ',\n",
       " 'modi was born and raised in vadnagar  bombay state  present day gujarat   where he completed his secondary education ',\n",
       " 'he was introduced to the rss at the age of eight  becoming a full time worker for the organisation in gujarat in      ',\n",
       " 'the rss assigned him to the bjp in       and he rose through the party hierarchy  becoming general secretary in      ',\n",
       " ' b  in       modi was appointed chief minister of gujarat and elected to the legislative assembly soon after ',\n",
       " 'his administration is considered complicit in the      gujarat riots c  and has been criticised for its management of the crisis ',\n",
       " 'according to official records  a little over       people were killed  three quarters of whom were muslim  independent sources estimated       deaths  mostly muslim ',\n",
       " '    a special investigation team appointed by the supreme court of india in      found no evidence to initiate prosecution proceedings against him ',\n",
       " ' d  while his policies as chief minister were credited for encouraging economic growth  his administration was criticised for failing to significantly improve health  poverty and education indices in the state ']"
      ]
     },
     "execution_count": 50,
     "metadata": {},
     "output_type": "execute_result"
    }
   ],
   "source": [
    "corpus"
   ]
  },
  {
   "cell_type": "code",
   "execution_count": 78,
   "id": "b80c29b9-d9d0-4568-9d1a-891ded1f1014",
   "metadata": {},
   "outputs": [
    {
     "name": "stdout",
     "output_type": "stream",
     "text": [
      "narendra\n",
      "damodarda\n",
      "modi\n",
      "born\n",
      "septemb\n",
      "indian\n",
      "politician\n",
      "serv\n",
      "prime\n",
      "minist\n",
      "india\n",
      "sinc\n",
      "modi\n",
      "chief\n",
      "minist\n",
      "gujarat\n",
      "member\n",
      "parliament\n",
      "mp\n",
      "varanasi\n",
      "member\n",
      "bharatiya\n",
      "janata\n",
      "parti\n",
      "bjp\n",
      "rashtriya\n",
      "swayamsevak\n",
      "sangh\n",
      "rss\n",
      "right\n",
      "wing\n",
      "hindutva\n",
      "paramilitari\n",
      "volunt\n",
      "organis\n",
      "longest\n",
      "serv\n",
      "prime\n",
      "minist\n",
      "outsid\n",
      "indian\n",
      "nation\n",
      "congress\n",
      "modi\n",
      "born\n",
      "rais\n",
      "vadnagar\n",
      "bombay\n",
      "state\n",
      "present\n",
      "day\n",
      "gujarat\n",
      "complet\n",
      "secondari\n",
      "educ\n",
      "introduc\n",
      "rss\n",
      "age\n",
      "eight\n",
      "becom\n",
      "full\n",
      "time\n",
      "worker\n",
      "organis\n",
      "gujarat\n",
      "rss\n",
      "assign\n",
      "bjp\n",
      "rose\n",
      "parti\n",
      "hierarchi\n",
      "becom\n",
      "gener\n",
      "secretari\n",
      "b\n",
      "modi\n",
      "appoint\n",
      "chief\n",
      "minist\n",
      "gujarat\n",
      "elect\n",
      "legisl\n",
      "assembl\n",
      "soon\n",
      "administr\n",
      "consid\n",
      "complicit\n",
      "gujarat\n",
      "riot\n",
      "c\n",
      "criticis\n",
      "manag\n",
      "crisi\n",
      "accord\n",
      "offici\n",
      "record\n",
      "littl\n",
      "peopl\n",
      "kill\n",
      "three\n",
      "quarter\n",
      "muslim\n",
      "independ\n",
      "sourc\n",
      "estim\n",
      "death\n",
      "mostli\n",
      "muslim\n",
      "special\n",
      "investig\n",
      "team\n",
      "appoint\n",
      "suprem\n",
      "court\n",
      "india\n",
      "found\n",
      "evid\n",
      "initi\n",
      "prosecut\n",
      "proceed\n",
      "polici\n",
      "chief\n",
      "minist\n",
      "credit\n",
      "encourag\n",
      "econom\n",
      "growth\n",
      "administr\n",
      "criticis\n",
      "fail\n",
      "significantli\n",
      "improv\n",
      "health\n",
      "poverti\n",
      "educ\n",
      "indic\n",
      "state\n"
     ]
    }
   ],
   "source": [
    "stemmer = PorterStemmer()\n",
    "## stemming\n",
    "for i in corpus:\n",
    "    words = nltk.word_tokenize(i)\n",
    "    for word in words:\n",
    "        if word not in set(stopwords.words('english')):\n",
    "            print(stemmer.stem(word))"
   ]
  },
  {
   "cell_type": "code",
   "execution_count": 82,
   "id": "5c819e8b-a33b-4a4b-9d7d-3af9ad6c3b1a",
   "metadata": {},
   "outputs": [
    {
     "name": "stdout",
     "output_type": "stream",
     "text": [
      "narendra\n",
      "damodardas\n",
      "modi\n",
      "born\n",
      "september\n",
      "indian\n",
      "politician\n",
      "served\n",
      "prime\n",
      "minister\n",
      "india\n",
      "since\n",
      "modi\n",
      "chief\n",
      "minister\n",
      "gujarat\n",
      "member\n",
      "parliament\n",
      "mp\n",
      "varanasi\n",
      "member\n",
      "bharatiya\n",
      "janata\n",
      "party\n",
      "bjp\n",
      "rashtriya\n",
      "swayamsevak\n",
      "sangh\n",
      "r\n",
      "right\n",
      "wing\n",
      "hindutva\n",
      "paramilitary\n",
      "volunteer\n",
      "organisation\n",
      "longest\n",
      "serving\n",
      "prime\n",
      "minister\n",
      "outside\n",
      "indian\n",
      "national\n",
      "congress\n",
      "modi\n",
      "born\n",
      "raised\n",
      "vadnagar\n",
      "bombay\n",
      "state\n",
      "present\n",
      "day\n",
      "gujarat\n",
      "completed\n",
      "secondary\n",
      "education\n",
      "introduced\n",
      "r\n",
      "age\n",
      "eight\n",
      "becoming\n",
      "full\n",
      "time\n",
      "worker\n",
      "organisation\n",
      "gujarat\n",
      "r\n",
      "assigned\n",
      "bjp\n",
      "rose\n",
      "party\n",
      "hierarchy\n",
      "becoming\n",
      "general\n",
      "secretary\n",
      "b\n",
      "modi\n",
      "appointed\n",
      "chief\n",
      "minister\n",
      "gujarat\n",
      "elected\n",
      "legislative\n",
      "assembly\n",
      "soon\n",
      "administration\n",
      "considered\n",
      "complicit\n",
      "gujarat\n",
      "riot\n",
      "c\n",
      "criticised\n",
      "management\n",
      "crisis\n",
      "according\n",
      "official\n",
      "record\n",
      "little\n",
      "people\n",
      "killed\n",
      "three\n",
      "quarter\n",
      "muslim\n",
      "independent\n",
      "source\n",
      "estimated\n",
      "death\n",
      "mostly\n",
      "muslim\n",
      "special\n",
      "investigation\n",
      "team\n",
      "appointed\n",
      "supreme\n",
      "court\n",
      "india\n",
      "found\n",
      "evidence\n",
      "initiate\n",
      "prosecution\n",
      "proceeding\n",
      "policy\n",
      "chief\n",
      "minister\n",
      "credited\n",
      "encouraging\n",
      "economic\n",
      "growth\n",
      "administration\n",
      "criticised\n",
      "failing\n",
      "significantly\n",
      "improve\n",
      "health\n",
      "poverty\n",
      "education\n",
      "index\n",
      "state\n"
     ]
    }
   ],
   "source": [
    "for i in corpus:\n",
    "    words = nltk.word_tokenize(i)\n",
    "    for word in words:\n",
    "        if word not in set(stopwords.words('english')):\n",
    "            print(lemmatizer.lemmatize(word))"
   ]
  },
  {
   "cell_type": "code",
   "execution_count": 86,
   "id": "84b11bb1-1e94-4a93-8ed0-bcc243f25234",
   "metadata": {},
   "outputs": [],
   "source": [
    "## bag of word\n",
    "\n",
    "from sklearn.feature_extraction.text import CountVectorizer\n",
    "cv = CountVectorizer()"
   ]
  },
  {
   "cell_type": "code",
   "execution_count": 88,
   "id": "c3b54bce-ee74-4b98-89e4-51524cd57703",
   "metadata": {},
   "outputs": [],
   "source": [
    "X = cv.fit_transform(corpus)"
   ]
  },
  {
   "cell_type": "code",
   "execution_count": 90,
   "id": "2b817836-f8b9-4927-b340-0e5e52d6b8d3",
   "metadata": {},
   "outputs": [
    {
     "data": {
      "text/plain": [
       "{'narendra': 76,\n",
       " 'damodardas': 28,\n",
       " 'modi': 72,\n",
       " 'born': 17,\n",
       " 'september': 106,\n",
       " 'is': 62,\n",
       " 'an': 5,\n",
       " 'indian': 57,\n",
       " 'politician': 89,\n",
       " 'who': 130,\n",
       " 'has': 46,\n",
       " 'served': 107,\n",
       " 'as': 8,\n",
       " 'the': 118,\n",
       " 'prime': 92,\n",
       " 'minister': 71,\n",
       " 'of': 79,\n",
       " 'india': 56,\n",
       " 'since': 110,\n",
       " 'was': 126,\n",
       " 'chief': 19,\n",
       " 'gujarat': 45,\n",
       " 'from': 41,\n",
       " 'to': 122,\n",
       " 'and': 6,\n",
       " 'member': 70,\n",
       " 'parliament': 85,\n",
       " 'mp': 74,\n",
       " 'for': 39,\n",
       " 'varanasi': 124,\n",
       " 'he': 47,\n",
       " 'bharatiya': 14,\n",
       " 'janata': 64,\n",
       " 'party': 86,\n",
       " 'bjp': 15,\n",
       " 'rashtriya': 97,\n",
       " 'swayamsevak': 116,\n",
       " 'sangh': 103,\n",
       " 'rss': 102,\n",
       " 'right': 99,\n",
       " 'wing': 132,\n",
       " 'hindutva': 51,\n",
       " 'paramilitary': 84,\n",
       " 'volunteer': 125,\n",
       " 'organisation': 81,\n",
       " 'longest': 68,\n",
       " 'serving': 108,\n",
       " 'outside': 82,\n",
       " 'national': 77,\n",
       " 'congress': 22,\n",
       " 'raised': 96,\n",
       " 'in': 54,\n",
       " 'vadnagar': 123,\n",
       " 'bombay': 16,\n",
       " 'state': 114,\n",
       " 'present': 91,\n",
       " 'day': 29,\n",
       " 'where': 128,\n",
       " 'completed': 20,\n",
       " 'his': 52,\n",
       " 'secondary': 104,\n",
       " 'education': 32,\n",
       " 'introduced': 60,\n",
       " 'at': 11,\n",
       " 'age': 4,\n",
       " 'eight': 33,\n",
       " 'becoming': 12,\n",
       " 'full': 42,\n",
       " 'time': 121,\n",
       " 'worker': 133,\n",
       " 'assigned': 10,\n",
       " 'him': 50,\n",
       " 'rose': 101,\n",
       " 'through': 120,\n",
       " 'hierarchy': 49,\n",
       " 'general': 43,\n",
       " 'secretary': 105,\n",
       " 'appointed': 7,\n",
       " 'elected': 34,\n",
       " 'legislative': 66,\n",
       " 'assembly': 9,\n",
       " 'soon': 111,\n",
       " 'after': 2,\n",
       " 'administration': 1,\n",
       " 'considered': 23,\n",
       " 'complicit': 21,\n",
       " 'riots': 100,\n",
       " 'been': 13,\n",
       " 'criticised': 27,\n",
       " 'its': 63,\n",
       " 'management': 69,\n",
       " 'crisis': 26,\n",
       " 'according': 0,\n",
       " 'official': 80,\n",
       " 'records': 98,\n",
       " 'little': 67,\n",
       " 'over': 83,\n",
       " 'people': 87,\n",
       " 'were': 127,\n",
       " 'killed': 65,\n",
       " 'three': 119,\n",
       " 'quarters': 95,\n",
       " 'whom': 131,\n",
       " 'muslim': 75,\n",
       " 'independent': 55,\n",
       " 'sources': 112,\n",
       " 'estimated': 36,\n",
       " 'deaths': 30,\n",
       " 'mostly': 73,\n",
       " 'special': 113,\n",
       " 'investigation': 61,\n",
       " 'team': 117,\n",
       " 'by': 18,\n",
       " 'supreme': 115,\n",
       " 'court': 24,\n",
       " 'found': 40,\n",
       " 'no': 78,\n",
       " 'evidence': 37,\n",
       " 'initiate': 59,\n",
       " 'prosecution': 94,\n",
       " 'proceedings': 93,\n",
       " 'against': 3,\n",
       " 'while': 129,\n",
       " 'policies': 88,\n",
       " 'credited': 25,\n",
       " 'encouraging': 35,\n",
       " 'economic': 31,\n",
       " 'growth': 44,\n",
       " 'failing': 38,\n",
       " 'significantly': 109,\n",
       " 'improve': 53,\n",
       " 'health': 48,\n",
       " 'poverty': 90,\n",
       " 'indices': 58}"
      ]
     },
     "execution_count": 90,
     "metadata": {},
     "output_type": "execute_result"
    }
   ],
   "source": [
    "cv.vocabulary_"
   ]
  },
  {
   "cell_type": "code",
   "execution_count": 92,
   "id": "ff937746-9cce-4a96-9a39-c159473d02b8",
   "metadata": {},
   "outputs": [
    {
     "data": {
      "text/plain": [
       "'narendra damodardas modi a   born    september       is an indian politician who has served as the prime minister of india since      '"
      ]
     },
     "execution_count": 92,
     "metadata": {},
     "output_type": "execute_result"
    }
   ],
   "source": [
    "corpus[0]"
   ]
  },
  {
   "cell_type": "code",
   "execution_count": 94,
   "id": "888b909c-d5c0-429b-9917-36bcd6e95b4b",
   "metadata": {},
   "outputs": [
    {
     "data": {
      "text/plain": [
       "array([[0, 0, 0, 0, 0, 1, 0, 0, 1, 0, 0, 0, 0, 0, 0, 0, 0, 1, 0, 0, 0, 0,\n",
       "        0, 0, 0, 0, 0, 0, 1, 0, 0, 0, 0, 0, 0, 0, 0, 0, 0, 0, 0, 0, 0, 0,\n",
       "        0, 0, 1, 0, 0, 0, 0, 0, 0, 0, 0, 0, 1, 1, 0, 0, 0, 0, 1, 0, 0, 0,\n",
       "        0, 0, 0, 0, 0, 1, 1, 0, 0, 0, 1, 0, 0, 1, 0, 0, 0, 0, 0, 0, 0, 0,\n",
       "        0, 1, 0, 0, 1, 0, 0, 0, 0, 0, 0, 0, 0, 0, 0, 0, 0, 0, 1, 1, 0, 0,\n",
       "        1, 0, 0, 0, 0, 0, 0, 0, 1, 0, 0, 0, 0, 0, 0, 0, 0, 0, 0, 0, 1, 0,\n",
       "        0, 0]])"
      ]
     },
     "execution_count": 94,
     "metadata": {},
     "output_type": "execute_result"
    }
   ],
   "source": [
    "X[0].toarray()"
   ]
  },
  {
   "cell_type": "code",
   "execution_count": 96,
   "id": "ff07beeb-8450-43eb-8514-1a42445616eb",
   "metadata": {},
   "outputs": [],
   "source": [
    "# TFIDF\n",
    "from sklearn.feature_extraction.text import TfidfVectorizer\n",
    "cv = TfidfVectorizer()\n",
    "X = cv.fit_transform(corpus)"
   ]
  },
  {
   "cell_type": "code",
   "execution_count": 98,
   "id": "6652113a-31e3-42f7-9f21-02c0abd8b4f7",
   "metadata": {},
   "outputs": [
    {
     "data": {
      "text/plain": [
       "'narendra damodardas modi a   born    september       is an indian politician who has served as the prime minister of india since      '"
      ]
     },
     "execution_count": 98,
     "metadata": {},
     "output_type": "execute_result"
    }
   ],
   "source": [
    "corpus[0]"
   ]
  },
  {
   "cell_type": "code",
   "execution_count": 100,
   "id": "de9d2cce-dfe8-41ba-bda2-0ceded2433d5",
   "metadata": {},
   "outputs": [
    {
     "data": {
      "text/plain": [
       "array([[0.        , 0.        , 0.        , 0.        , 0.        ,\n",
       "        0.26684724, 0.        , 0.        , 0.22917151, 0.        ,\n",
       "        0.        , 0.        , 0.        , 0.        , 0.        ,\n",
       "        0.        , 0.        , 0.22917151, 0.        , 0.        ,\n",
       "        0.        , 0.        , 0.        , 0.        , 0.        ,\n",
       "        0.        , 0.        , 0.        , 0.26684724, 0.        ,\n",
       "        0.        , 0.        , 0.        , 0.        , 0.        ,\n",
       "        0.        , 0.        , 0.        , 0.        , 0.        ,\n",
       "        0.        , 0.        , 0.        , 0.        , 0.        ,\n",
       "        0.        , 0.22917151, 0.        , 0.        , 0.        ,\n",
       "        0.        , 0.        , 0.        , 0.        , 0.        ,\n",
       "        0.        , 0.22917151, 0.22917151, 0.        , 0.        ,\n",
       "        0.        , 0.        , 0.16476443, 0.        , 0.        ,\n",
       "        0.        , 0.        , 0.        , 0.        , 0.        ,\n",
       "        0.        , 0.16476443, 0.18170571, 0.        , 0.        ,\n",
       "        0.        , 0.26684724, 0.        , 0.        , 0.12708869,\n",
       "        0.        , 0.        , 0.        , 0.        , 0.        ,\n",
       "        0.        , 0.        , 0.        , 0.        , 0.26684724,\n",
       "        0.        , 0.        , 0.22917151, 0.        , 0.        ,\n",
       "        0.        , 0.        , 0.        , 0.        , 0.        ,\n",
       "        0.        , 0.        , 0.        , 0.        , 0.        ,\n",
       "        0.        , 0.26684724, 0.26684724, 0.        , 0.        ,\n",
       "        0.26684724, 0.        , 0.        , 0.        , 0.        ,\n",
       "        0.        , 0.        , 0.        , 0.10844242, 0.        ,\n",
       "        0.        , 0.        , 0.        , 0.        , 0.        ,\n",
       "        0.        , 0.        , 0.        , 0.        , 0.        ,\n",
       "        0.26684724, 0.        , 0.        , 0.        ]])"
      ]
     },
     "execution_count": 100,
     "metadata": {},
     "output_type": "execute_result"
    }
   ],
   "source": [
    "X[0].toarray()"
   ]
  },
  {
   "cell_type": "code",
   "execution_count": null,
   "id": "2fdeb608-6fa0-43d5-b4fc-792fbf291b93",
   "metadata": {},
   "outputs": [],
   "source": []
  }
 ],
 "metadata": {
  "kernelspec": {
   "display_name": "Python 3 (ipykernel)",
   "language": "python",
   "name": "python3"
  },
  "language_info": {
   "codemirror_mode": {
    "name": "ipython",
    "version": 3
   },
   "file_extension": ".py",
   "mimetype": "text/x-python",
   "name": "python",
   "nbconvert_exporter": "python",
   "pygments_lexer": "ipython3",
   "version": "3.11.7"
  }
 },
 "nbformat": 4,
 "nbformat_minor": 5
}
